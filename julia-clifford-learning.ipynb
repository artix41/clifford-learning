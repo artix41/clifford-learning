{
 "cells": [
  {
   "cell_type": "code",
   "execution_count": 1,
   "metadata": {},
   "outputs": [
    {
     "data": {
      "text/plain": [
       "reverseCommands (generic function with 1 method)"
      ]
     },
     "execution_count": 1,
     "metadata": {},
     "output_type": "execute_result"
    }
   ],
   "source": [
    "include(\"random_clifford/Initial.jl\")\n",
    "include(\"random_clifford/Symplectic.jl\")"
   ]
  },
  {
   "cell_type": "code",
   "execution_count": 233,
   "metadata": {},
   "outputs": [
    {
     "name": "stderr",
     "output_type": "stream",
     "text": [
      "┌ Info: Precompiling Zygote [e88e6eb3-aa80-5325-afca-941959d7151f]\n",
      "└ @ Base loading.jl:1242\n"
     ]
    }
   ],
   "source": [
    "using Yao\n",
    "using YaoBlocks\n",
    "using YaoBlocks.AD\n",
    "using Random\n",
    "using PyPlot\n",
    "using YaoSym\n",
    "using YaoExtensions\n",
    "using QuAlgorithmZoo: Adam, update!\n",
    "using LinearAlgebra\n",
    "using BenchmarkTools\n",
    "using Zygote"
   ]
  },
  {
   "cell_type": "code",
   "execution_count": 234,
   "metadata": {},
   "outputs": [],
   "source": [
    "include(\"/Users/arthurpesah/.julia/packages/YaoExtensions/VAbtx/example/port_zygote.jl\")\n",
    "include(\"/Users/arthurpesah/.julia/packages/YaoExtensions/VAbtx/example/zygote_patch.jl\")"
   ]
  },
  {
   "cell_type": "markdown",
   "metadata": {},
   "source": [
    "## Generate a dataset of random clifford circuit and corresponding energy"
   ]
  },
  {
   "cell_type": "markdown",
   "metadata": {},
   "source": [
    "### Parameters"
   ]
  },
  {
   "cell_type": "code",
   "execution_count": 3,
   "metadata": {},
   "outputs": [],
   "source": [
    "n_qubits = 2\n",
    "n_circuits = 200\n",
    "n = n_qubits;"
   ]
  },
  {
   "cell_type": "markdown",
   "metadata": {},
   "source": [
    "### Create random circuits"
   ]
  },
  {
   "cell_type": "code",
   "execution_count": 4,
   "metadata": {},
   "outputs": [
    {
     "data": {
      "text/plain": [
       "9223372036854775807"
      ]
     },
     "execution_count": 4,
     "metadata": {},
     "output_type": "execute_result"
    }
   ],
   "source": [
    "n_clifford_circuits = max(getNumberOfSymplecticCliffords(n), 2^63-1)"
   ]
  },
  {
   "cell_type": "code",
   "execution_count": 5,
   "metadata": {},
   "outputs": [
    {
     "data": {
      "text/plain": [
       "parseCommand (generic function with 1 method)"
      ]
     },
     "execution_count": 5,
     "metadata": {},
     "output_type": "execute_result"
    }
   ],
   "source": [
    "function parseCommand(command)\n",
    "    if command[1] == \"hadamard\"\n",
    "        return put(command[2]=>H)\n",
    "    elseif command[1] == \"phase\"\n",
    "        return put(command[2]=>shift(π/2))\n",
    "    elseif command[1] == \"cnot\"\n",
    "        return control(command[2][1], command[2][2]=>X)\n",
    "    else\n",
    "        error(\"The command should be either 'hadamard', 'phase' or 'cnot', not $(command[1])\")\n",
    "    end\n",
    "end"
   ]
  },
  {
   "cell_type": "code",
   "execution_count": 6,
   "metadata": {},
   "outputs": [
    {
     "data": {
      "text/plain": [
       "getRandomCircuit (generic function with 1 method)"
      ]
     },
     "execution_count": 6,
     "metadata": {},
     "output_type": "execute_result"
    }
   ],
   "source": [
    "function getRandomCircuit(i)\n",
    "    commands = decompose(rand(0:n_clifford_circuits), rand(0:2^(2*n)), n, true)\n",
    "    list_commands = map(c -> (c[1], parse.(Int, split(c[2], \",\"))),\n",
    "                    split.(commands, r\"\\(|\\)\", keepempty=false)[2:length(commands)-1])\n",
    "    circuit = chain(n_qubits, parseCommand.(list_commands))\n",
    "    print(\"$(i) \")\n",
    "    return circuit\n",
    "end"
   ]
  },
  {
   "cell_type": "code",
   "execution_count": 112,
   "metadata": {},
   "outputs": [
    {
     "name": "stdout",
     "output_type": "stream",
     "text": [
      "1 2 3 4 5 6 7 8 9 10 11 12 13 14 15 16 17 18 19 20 21 22 23 24 25 26 27 28 29 30 31 32 33 34 35 36 37 38 39 40 41 42 43 44 45 46 47 48 49 50 51 52 53 54 55 56 57 58 59 60 61 62 63 64 65 66 67 68 69 70 71 72 73 74 75 76 77 78 79 80 81 82 83 84 85 86 87 88 89 90 91 92 93 94 95 96 97 98 99 100 101 102 103 104 105 106 107 108 109 110 111 112 113 114 115 116 117 118 119 120 121 122 123 124 125 126 127 128 129 130 131 132 133 134 135 136 137 138 139 140 141 142 143 144 145 146 147 148 149 150 151 152 153 154 155 156 157 158 159 160 161 162 163 164 165 166 167 168 169 170 171 172 173 174 175 176 177 178 179 180 181 182 183 184 185 186 187 188 189 190 191 192 193 194 195 196 197 198 199 200 "
     ]
    }
   ],
   "source": [
    "list_circuits = [getRandomCircuit(i) for i in 1:n_circuits];"
   ]
  },
  {
   "cell_type": "code",
   "execution_count": 113,
   "metadata": {},
   "outputs": [
    {
     "ename": "NotImplementedError{Tuple{DataType,ShiftGate{Float64}}}",
     "evalue": "NotImplementedError: mat is not implemented for (::DataType, ::ShiftGate{Float64}), please implement this method for your custom type",
     "output_type": "error",
     "traceback": [
      "NotImplementedError: mat is not implemented for (::DataType, ::ShiftGate{Float64}), please implement this method for your custom type",
      "",
      "Stacktrace:",
      " [1] mat(::Type{SymEngine.Basic}, ::ShiftGate{Float64}) at ./none:0",
      " [2] mat_matchreg(::ArrayReg{1,SymEngine.Basic,SparseArrays.SparseMatrixCSC{SymEngine.Basic,Int64}}, ::ShiftGate{Float64}) at /Users/arthurpesah/.julia/packages/YaoBlocks/zfoo6/src/abstract_block.jl:105",
      " [3] apply!(::ArrayReg{1,SymEngine.Basic,SparseArrays.SparseMatrixCSC{SymEngine.Basic,Int64}}, ::PutBlock{2,1,ShiftGate{Float64}}) at /Users/arthurpesah/.julia/packages/YaoBlocks/zfoo6/src/composite/put_block.jl:80",
      " [4] apply!(::ArrayReg{1,SymEngine.Basic,SparseArrays.SparseMatrixCSC{SymEngine.Basic,Int64}}, ::ChainBlock{2}) at /Users/arthurpesah/.julia/packages/YaoBlocks/zfoo6/src/composite/chain.jl:75",
      " [5] |>(::ArrayReg{1,SymEngine.Basic,SparseArrays.SparseMatrixCSC{SymEngine.Basic,Int64}}, ::ChainBlock{2}) at /Users/arthurpesah/.julia/packages/YaoBlocks/zfoo6/src/abstract_block.jl:49",
      " [6] top-level scope at In[113]:1"
     ]
    }
   ],
   "source": [
    "ket\"00\" |> list_circuits[2]"
   ]
  },
  {
   "cell_type": "markdown",
   "metadata": {},
   "source": [
    "### Create Hamiltonian"
   ]
  },
  {
   "cell_type": "code",
   "execution_count": 114,
   "metadata": {},
   "outputs": [
    {
     "data": {
      "text/plain": [
       "2×2 UpperTriangular{Float64,Array{Float64,2}}:\n",
       " 0.0  0.5\n",
       "  ⋅   0.0"
      ]
     },
     "execution_count": 114,
     "metadata": {},
     "output_type": "execute_result"
    }
   ],
   "source": [
    "W = 1/n * (UnitUpperTriangular(ones(n, n)) - I)"
   ]
  },
  {
   "cell_type": "code",
   "execution_count": 115,
   "metadata": {},
   "outputs": [
    {
     "data": {
      "text/plain": [
       "get_hamiltonian (generic function with 1 method)"
      ]
     },
     "execution_count": 115,
     "metadata": {},
     "output_type": "execute_result"
    }
   ],
   "source": [
    "function get_hamiltonian(W::AbstractMatrix)\n",
    "    nbit = size(W, 1)\n",
    "    ab = Any[]\n",
    "    for i=1:nbit,j=i+1:nbit\n",
    "        if W[i,j] != 0\n",
    "            push!(ab, W[i,j]*repeat(nbit, Z, [i,j]))\n",
    "        end\n",
    "    end\n",
    "    sum(ab)\n",
    "end"
   ]
  },
  {
   "cell_type": "code",
   "execution_count": 116,
   "metadata": {},
   "outputs": [],
   "source": [
    "hamil = get_hamiltonian(W);"
   ]
  },
  {
   "cell_type": "code",
   "execution_count": 117,
   "metadata": {},
   "outputs": [
    {
     "data": {
      "text/plain": [
       "evaluate_hamiltonian (generic function with 1 method)"
      ]
     },
     "execution_count": 117,
     "metadata": {},
     "output_type": "execute_result"
    }
   ],
   "source": [
    "function evaluate_hamiltonian(i)\n",
    "    print(i);\n",
    "    print(\" \")\n",
    "    expect(hamil, zero_state(n_qubits) |> list_circuits[i])\n",
    "end"
   ]
  },
  {
   "cell_type": "markdown",
   "metadata": {},
   "source": [
    "### Compute the expectation values"
   ]
  },
  {
   "cell_type": "code",
   "execution_count": 118,
   "metadata": {},
   "outputs": [],
   "source": [
    "state = zero_state(n_qubits) |> list_circuits[1];"
   ]
  },
  {
   "cell_type": "code",
   "execution_count": 119,
   "metadata": {},
   "outputs": [
    {
     "name": "stdout",
     "output_type": "stream",
     "text": [
      "1 2 3 4 5 6 7 8 9 10 11 12 13 14 15 16 17 18 19 20 21 22 23 24 25 26 27 28 29 30 31 32 33 34 35 36 37 38 39 40 41 42 43 44 45 46 47 48 49 50 51 52 53 54 55 56 57 58 59 60 61 62 63 64 65 66 67 68 69 70 71 72 73 74 75 76 77 78 79 80 81 82 83 84 85 86 87 88 89 90 91 92 93 94 95 96 97 98 99 100 101 102 103 104 105 106 107 108 109 110 111 112 113 114 115 116 117 118 119 120 121 122 123 124 125 126 127 128 129 130 131 132 133 134 135 136 137 138 139 140 141 142 143 144 145 146 147 148 149 150 151 152 153 154 155 156 157 158 159 160 161 162 163 164 165 166 167 168 169 170 171 172 173 174 175 176 177 178 179 180 181 182 183 184 185 186 187 188 189 190 191 192 193 194 195 196 197 198 199 200 "
     ]
    }
   ],
   "source": [
    "energies = evaluate_hamiltonian.(1:n_circuits);"
   ]
  },
  {
   "cell_type": "code",
   "execution_count": 120,
   "metadata": {},
   "outputs": [
    {
     "data": {
      "image/png": "[encoded data removed]",
      "text/plain": [
       "Figure(PyObject <Figure size 640x480 with 1 Axes>)"
      ]
     },
     "metadata": {},
     "output_type": "display_data"
    },
    {
     "data": {
      "text/plain": [
       "([513.0, 0.0, 0.0, 0.0, 0.0, 0.0, 0.0, 0.0, 0.0, 487.0], [1.0, 1.1, 1.2, 1.3, 1.4, 1.5, 1.6, 1.7000000000000002, 1.8, 1.9, 2.0], PyCall.PyObject[PyObject <matplotlib.patches.Rectangle object at 0x154884c18>, PyObject <matplotlib.patches.Rectangle object at 0x154c07710>, PyObject <matplotlib.patches.Rectangle object at 0x154884e80>, PyObject <matplotlib.patches.Rectangle object at 0x1549a84e0>, PyObject <matplotlib.patches.Rectangle object at 0x1549a87f0>, PyObject <matplotlib.patches.Rectangle object at 0x1549a8b00>, PyObject <matplotlib.patches.Rectangle object at 0x1549a8e10>, PyObject <matplotlib.patches.Rectangle object at 0x1549a8f28>, PyObject <matplotlib.patches.Rectangle object at 0x1549ae470>, PyObject <matplotlib.patches.Rectangle object at 0x1549ae780>])"
      ]
     },
     "execution_count": 120,
     "metadata": {},
     "output_type": "execute_result"
    }
   ],
   "source": [
    "hist(zero_state(n_qubits) |> list_circuits[4] |> r->Yao.measure(r, nshots=1000))"
   ]
  },
  {
   "cell_type": "code",
   "execution_count": 121,
   "metadata": {},
   "outputs": [
    {
     "data": {
      "image/png": "[encoded data removed]",
      "text/plain": [
       "Figure(PyObject <Figure size 640x480 with 1 Axes>)"
      ]
     },
     "metadata": {},
     "output_type": "display_data"
    }
   ],
   "source": [
    "hist(energies);"
   ]
  },
  {
   "cell_type": "code",
   "execution_count": 159,
   "metadata": {},
   "outputs": [
    {
     "data": {
      "text/plain": [
       "200-element Array{Complex{Float64},1}:\n",
       "    -0.49999999999999967 + 0.0im\n",
       "     -0.4999999999999998 + 0.0im\n",
       "     0.49999999999999967 + 0.0im\n",
       "     -0.4999999999999998 + 0.0im\n",
       "   4.686749320818303e-34 + 0.0im\n",
       "     -0.4999999999999998 + 0.0im\n",
       "                     0.0 + 0.0im\n",
       " -3.7493994566546427e-33 + 0.0im\n",
       "                     0.0 + 0.0im\n",
       "  -3.749399456654642e-33 + 0.0im\n",
       "      0.4999999999999998 + 0.0im\n",
       "                     0.0 + 0.0im\n",
       "                     0.0 + 0.0im\n",
       "                         ⋮      \n",
       "     -0.4999999999999998 + 0.0im\n",
       "     -0.4999999999999998 + 0.0im\n",
       "                     0.0 + 0.0im\n",
       "  1.8746997283273247e-33 + 0.0im\n",
       "                     0.5 + 0.0im\n",
       "     -0.4999999999999998 + 0.0im\n",
       "     0.49999999999999967 + 0.0im\n",
       "                     0.0 + 0.0im\n",
       "   7.498798913309284e-33 + 0.0im\n",
       "                     0.0 + 0.0im\n",
       "                     0.0 + 0.0im\n",
       "      0.4999999999999998 + 0.0im"
      ]
     },
     "execution_count": 159,
     "metadata": {},
     "output_type": "execute_result"
    }
   ],
   "source": [
    "energies"
   ]
  },
  {
   "cell_type": "markdown",
   "metadata": {},
   "source": [
    "### TODO: create a balanced dataset (in terms of energy)"
   ]
  },
  {
   "cell_type": "markdown",
   "metadata": {},
   "source": [
    "### TODO: Save the dataset"
   ]
  },
  {
   "cell_type": "markdown",
   "metadata": {},
   "source": [
    "## Variational circuit"
   ]
  },
  {
   "cell_type": "markdown",
   "metadata": {},
   "source": [
    "### Definition"
   ]
  },
  {
   "cell_type": "code",
   "execution_count": 123,
   "metadata": {},
   "outputs": [
    {
     "data": {
      "text/plain": [
       "U (generic function with 1 method)"
      ]
     },
     "execution_count": 123,
     "metadata": {},
     "output_type": "execute_result"
    }
   ],
   "source": [
    "function U()\n",
    "    return chain(Rz(0), Rx(0), Rz(0))\n",
    "end"
   ]
  },
  {
   "cell_type": "code",
   "execution_count": 124,
   "metadata": {},
   "outputs": [],
   "source": [
    "list_circuits = NoParams.(list_circuits);"
   ]
  },
  {
   "cell_type": "code",
   "execution_count": 125,
   "metadata": {},
   "outputs": [
    {
     "data": {
      "text/plain": [
       "0-element Array{Float64,1}"
      ]
     },
     "execution_count": 125,
     "metadata": {},
     "output_type": "execute_result"
    }
   ],
   "source": [
    "parameters(list_circuits[1])"
   ]
  },
  {
   "cell_type": "code",
   "execution_count": 341,
   "metadata": {},
   "outputs": [],
   "source": [
    "v_unitary = chain(n, put(1=>Rz(0)), put(1=>Ry(0)), put(1=>Rz(0)), \n",
    "                  put(2=>Rz(0)), put(2=>Ry(0)), put(2=>Rz(0)), \n",
    "                  control(2, 1=>X), \n",
    "                  put(1=>Rz(0)), put(2=>Ry(0)),\n",
    "                  control(1, 2=>X),\n",
    "                  put(2=>Ry(0)),\n",
    "                  control(2, 1=>X),\n",
    "                  put(1=>Rz(0)), put(1=>Ry(0)), put(1=>Rz(0)), \n",
    "                  put(2=>Rz(0)), put(2=>Ry(0)), put(2=>Rz(0)));\n",
    "\n",
    "v_circuit = chain(n+1, put(1=>H), control(1, 2:n+1=>v_unitary), put(1=>H));\n",
    "total_circuits = [chain(n+1, concentrate(n+1, circuit, 2:n+1), v_circuit) for circuit in list_circuits];"
   ]
  },
  {
   "cell_type": "code",
   "execution_count": 342,
   "metadata": {},
   "outputs": [
    {
     "data": {
      "text/plain": [
       "3.749399456654639e-33 + 0.0im"
      ]
     },
     "execution_count": 342,
     "metadata": {},
     "output_type": "execute_result"
    }
   ],
   "source": [
    "expect(put(n+1, 1=>Z), zero_state(n+1) |> total_circuits[1])"
   ]
  },
  {
   "cell_type": "code",
   "execution_count": 189,
   "metadata": {},
   "outputs": [
    {
     "data": {
      "text/plain": [
       "0"
      ]
     },
     "execution_count": 189,
     "metadata": {},
     "output_type": "execute_result"
    }
   ],
   "source": [
    "dispatch!.(v_unitary, :random);\n",
    "a_param = 1\n",
    "b_param = 0\n",
    "# optimizer = Adam(lr=0.005)\n",
    "list_rmse = Any[]\n",
    "using Flux.Optimise"
   ]
  },
  {
   "cell_type": "code",
   "execution_count": 131,
   "metadata": {},
   "outputs": [
    {
     "data": {
      "text/plain": [
       "predict_energy (generic function with 1 method)"
      ]
     },
     "execution_count": 131,
     "metadata": {},
     "output_type": "execute_result"
    }
   ],
   "source": [
    "function predict_energy(i)\n",
    "    psi = zero_state(n+1) |> total_circuits[i]\n",
    "    Z1 = put(n+1, 1=>Z)\n",
    "    return a_param * expect(Z1, psi) + b_param\n",
    "end"
   ]
  },
  {
   "cell_type": "code",
   "execution_count": 167,
   "metadata": {},
   "outputs": [
    {
     "data": {
      "text/plain": [
       "Descent(0.0001)"
      ]
     },
     "execution_count": 167,
     "metadata": {},
     "output_type": "execute_result"
    }
   ],
   "source": [
    "optimizer = Optimise.Descent(lr)"
   ]
  },
  {
   "cell_type": "code",
   "execution_count": 400,
   "metadata": {},
   "outputs": [],
   "source": [
    "function cost(params, a_param, b_param, circuit, real_energy)\n",
    "    psi = dispatch_diff_apply!(zero_state(n+1), circuit, params)\n",
    "    Z1 = put(n+1, 1=>Z)\n",
    "    predicted_energy = a_param * expect(Z1, psi) + b_param\n",
    "    return 1/2 * (predicted_energy - real_energy)^2\n",
    "end;"
   ]
  },
  {
   "cell_type": "code",
   "execution_count": 401,
   "metadata": {},
   "outputs": [
    {
     "data": {
      "text/plain": [
       "0.1283934641607766 + 0.0im"
      ]
     },
     "execution_count": 401,
     "metadata": {},
     "output_type": "execute_result"
    }
   ],
   "source": [
    "cost(params, a_param, b_param, total_circuits[14], energies[1])"
   ]
  },
  {
   "cell_type": "code",
   "execution_count": 227,
   "metadata": {},
   "outputs": [
    {
     "name": "stdout",
     "output_type": "stream",
     "text": [
      "Epoch 20000, RMSE = 0.1768885733647236\n"
     ]
    }
   ],
   "source": [
    "n_epochs = 100000\n",
    "\n",
    "lr = 0.1\n",
    "lr_ab = 0.1\n",
    "batch_size = 200\n",
    "optimizer.eta = lr\n",
    "params = parameters(v_unitary)\n",
    "\n",
    "for epoch = 1:n_epochs\n",
    "    mse = 0\n",
    "    gradient_batch = zeros(length(params))\n",
    "    gradient_a = 0\n",
    "    gradient_b = 0\n",
    "    indices = randperm(MersenneTwister(42), n_circuits)\n",
    "    for i in indices\n",
    "        Z1 = put(n+1, 1=>Z)\n",
    "        residual = predict_energy(i) - energies[i]\n",
    "        mse += real(residual^2)\n",
    "        \n",
    "        grad_input, grad_params = expect'(Z1, zero_state(n+1) => total_circuits[i])\n",
    "        grad_params *= a_param * residual\n",
    "        gradient_batch += real(grad_params)\n",
    "        gradient_a += real(predict_energy(i) * residual)\n",
    "        gradient_b += real(residual)\n",
    "#         @show params\n",
    "        if i % batch_size == 0 || i == n_circuits\n",
    "            gradient_batch /= batch_size\n",
    "            gradient_a /= batch_size\n",
    "            gradient_b /= batch_size\n",
    "#             dispatch!(v_unitary, params-gradient_batch)\n",
    "#             params -= 0.0000001 * Float64.(gradient_batch)\n",
    "            Optimise.update!(optimizer, params, gradient_batch)\n",
    "            a_param -= lr_ab * gradient_a\n",
    "            b_param -= lr_ab * gradient_b\n",
    "            \n",
    "            dispatch!(v_unitary, params)\n",
    "            \n",
    "            gradient_batch = zeros(length(params))\n",
    "            gradient_a = 0\n",
    "            gradient_b = 0\n",
    "        end\n",
    "    end\n",
    "    rmse = sqrt(mse / n_circuits)\n",
    "    push!(list_rmse, rmse)\n",
    "#     if list_rmse[end] > list_rmse[end - 1]\n",
    "#         optimizer.eta /= 2\n",
    "#         lr_ab /= 2\n",
    "#     end\n",
    "    println(\"Epoch $epoch, RMSE = $rmse\")\n",
    "    IJulia.clear_output(true)\n",
    "end"
   ]
  },
  {
   "cell_type": "code",
   "execution_count": 229,
   "metadata": {},
   "outputs": [
    {
     "data": {
      "image/png": "[encoded data removed]",
      "text/plain": [
       "Figure(PyObject <Figure size 640x480 with 1 Axes>)"
      ]
     },
     "metadata": {},
     "output_type": "display_data"
    },
    {
     "data": {
      "text/plain": [
       "1-element Array{PyCall.PyObject,1}:\n",
       " PyObject <matplotlib.lines.Line2D object at 0x1576645f8>"
      ]
     },
     "execution_count": 229,
     "metadata": {},
     "output_type": "execute_result"
    }
   ],
   "source": [
    "semilogy(list_rmse[5000:end])"
   ]
  },
  {
   "cell_type": "code",
   "execution_count": 232,
   "metadata": {},
   "outputs": [
    {
     "data": {
      "image/png": "[encoded data removed]",
      "text/plain": [
       "Figure(PyObject <Figure size 640x480 with 1 Axes>)"
      ]
     },
     "metadata": {},
     "output_type": "display_data"
    },
    {
     "name": "stdout",
     "output_type": "stream",
     "text": [
      "200"
     ]
    },
    {
     "data": {
      "text/plain": [
       "PyObject <matplotlib.collections.PathCollection object at 0x1578542e8>"
      ]
     },
     "execution_count": 232,
     "metadata": {},
     "output_type": "execute_result"
    }
   ],
   "source": [
    "i = 15\n",
    "\n",
    "psi = [zero_state(n+1) |> c for c in total_circuits]\n",
    "Z1 = put(n+1, 1=>Z)\n",
    "pred_energies = [(predict_energy(i) - b_param) / a_param for i in 1:length(psi)]\n",
    "print(length(pred_energies))\n",
    "plt.plot([-1, 1], [-1, 1])\n",
    "plt.scatter(energies, pred_energies)"
   ]
  },
  {
   "cell_type": "markdown",
   "metadata": {},
   "source": [
    "## Test"
   ]
  },
  {
   "cell_type": "code",
   "execution_count": 303,
   "metadata": {},
   "outputs": [
    {
     "name": "stdout",
     "output_type": "stream",
     "text": [
      "Predicted Energy: 0.4315397404943842 + 0.0im\n",
      "Real Energy: 0.49999999999999967 + 0.0im\n"
     ]
    }
   ],
   "source": [
    "i = 15\n",
    "\n",
    "psi = zero_state(n+1) |> total_circuits[i]\n",
    "Z1 = put(n+1, 1=>Z)\n",
    "println(\"Predicted Energy: $(expect(Z1, psi))\")\n",
    "println(\"Real Energy: $(energies[i])\")"
   ]
  },
  {
   "cell_type": "code",
   "execution_count": 74,
   "metadata": {},
   "outputs": [
    {
     "data": {
      "text/plain": [
       "0.0014762912116976575 - 0.0im"
      ]
     },
     "execution_count": 74,
     "metadata": {},
     "output_type": "execute_result"
    }
   ],
   "source": [
    "b_param"
   ]
  },
  {
   "cell_type": "code",
   "execution_count": 73,
   "metadata": {},
   "outputs": [
    {
     "data": {
      "text/plain": [
       "0.48999209064464455 - 0.0im"
      ]
     },
     "execution_count": 73,
     "metadata": {},
     "output_type": "execute_result"
    }
   ],
   "source": [
    "a_param"
   ]
  },
  {
   "cell_type": "code",
   "execution_count": 79,
   "metadata": {},
   "outputs": [
    {
     "data": {
      "text/plain": [
       "0.48999209064464455 - 0.0im"
      ]
     },
     "execution_count": 79,
     "metadata": {},
     "output_type": "execute_result"
    }
   ],
   "source": [
    "a_param"
   ]
  },
  {
   "cell_type": "code",
   "execution_count": 340,
   "metadata": {},
   "outputs": [
    {
     "data": {
      "text/plain": [
       "\u001b[36mnqubits: 2\u001b[39m\n",
       "\u001b[34m\u001b[1mchain\u001b[22m\u001b[39m\n",
       "├─ \u001b[33m\u001b[1m[∂] \u001b[22m\u001b[39m\u001b[36m\u001b[1mput on (\u001b[22m\u001b[39m\u001b[36m\u001b[1m1\u001b[22m\u001b[39m\u001b[36m\u001b[1m)\u001b[22m\u001b[39m\n",
       "│     └─ rot(Z gate, 0.0)\n",
       "├─ \u001b[33m\u001b[1m[∂] \u001b[22m\u001b[39m\u001b[36m\u001b[1mput on (\u001b[22m\u001b[39m\u001b[36m\u001b[1m1\u001b[22m\u001b[39m\u001b[36m\u001b[1m)\u001b[22m\u001b[39m\n",
       "│     └─ rot(Y gate, 0.0)\n",
       "├─ \u001b[33m\u001b[1m[∂] \u001b[22m\u001b[39m\u001b[36m\u001b[1mput on (\u001b[22m\u001b[39m\u001b[36m\u001b[1m1\u001b[22m\u001b[39m\u001b[36m\u001b[1m)\u001b[22m\u001b[39m\n",
       "│     └─ rot(Z gate, 0.0)\n",
       "├─ \u001b[33m\u001b[1m[∂] \u001b[22m\u001b[39m\u001b[36m\u001b[1mput on (\u001b[22m\u001b[39m\u001b[36m\u001b[1m2\u001b[22m\u001b[39m\u001b[36m\u001b[1m)\u001b[22m\u001b[39m\n",
       "│     └─ rot(Z gate, 0.0)\n",
       "├─ \u001b[33m\u001b[1m[∂] \u001b[22m\u001b[39m\u001b[36m\u001b[1mput on (\u001b[22m\u001b[39m\u001b[36m\u001b[1m2\u001b[22m\u001b[39m\u001b[36m\u001b[1m)\u001b[22m\u001b[39m\n",
       "│     └─ rot(Y gate, 0.0)\n",
       "├─ \u001b[33m\u001b[1m[∂] \u001b[22m\u001b[39m\u001b[36m\u001b[1mput on (\u001b[22m\u001b[39m\u001b[36m\u001b[1m2\u001b[22m\u001b[39m\u001b[36m\u001b[1m)\u001b[22m\u001b[39m\n",
       "│     └─ rot(Z gate, 0.0)\n",
       "├─ \u001b[31m\u001b[1mcontrol(\u001b[22m\u001b[39m\u001b[31m\u001b[1m2\u001b[22m\u001b[39m\u001b[31m\u001b[1m)\u001b[22m\u001b[39m\n",
       "│  └─ \u001b[37m\u001b[1m(1,)\u001b[22m\u001b[39m X gate\n",
       "├─ \u001b[33m\u001b[1m[∂] \u001b[22m\u001b[39m\u001b[36m\u001b[1mput on (\u001b[22m\u001b[39m\u001b[36m\u001b[1m1\u001b[22m\u001b[39m\u001b[36m\u001b[1m)\u001b[22m\u001b[39m\n",
       "│     └─ rot(Z gate, 0.0)\n",
       "├─ \u001b[33m\u001b[1m[∂] \u001b[22m\u001b[39m\u001b[36m\u001b[1mput on (\u001b[22m\u001b[39m\u001b[36m\u001b[1m2\u001b[22m\u001b[39m\u001b[36m\u001b[1m)\u001b[22m\u001b[39m\n",
       "│     └─ rot(Y gate, 0.0)\n",
       "├─ \u001b[31m\u001b[1mcontrol(\u001b[22m\u001b[39m\u001b[31m\u001b[1m1\u001b[22m\u001b[39m\u001b[31m\u001b[1m)\u001b[22m\u001b[39m\n",
       "│  └─ \u001b[37m\u001b[1m(2,)\u001b[22m\u001b[39m X gate\n",
       "├─ \u001b[33m\u001b[1m[∂] \u001b[22m\u001b[39m\u001b[36m\u001b[1mput on (\u001b[22m\u001b[39m\u001b[36m\u001b[1m2\u001b[22m\u001b[39m\u001b[36m\u001b[1m)\u001b[22m\u001b[39m\n",
       "│     └─ rot(Y gate, 0.0)\n",
       "├─ \u001b[31m\u001b[1mcontrol(\u001b[22m\u001b[39m\u001b[31m\u001b[1m2\u001b[22m\u001b[39m\u001b[31m\u001b[1m)\u001b[22m\u001b[39m\n",
       "│  └─ \u001b[37m\u001b[1m(1,)\u001b[22m\u001b[39m X gate\n",
       "├─ \u001b[33m\u001b[1m[∂] \u001b[22m\u001b[39m\u001b[36m\u001b[1mput on (\u001b[22m\u001b[39m\u001b[36m\u001b[1m1\u001b[22m\u001b[39m\u001b[36m\u001b[1m)\u001b[22m\u001b[39m\n",
       "│     └─ rot(Z gate, 0.0)\n",
       "├─ \u001b[33m\u001b[1m[∂] \u001b[22m\u001b[39m\u001b[36m\u001b[1mput on (\u001b[22m\u001b[39m\u001b[36m\u001b[1m1\u001b[22m\u001b[39m\u001b[36m\u001b[1m)\u001b[22m\u001b[39m\n",
       "│     └─ rot(Y gate, 0.0)\n",
       "├─ \u001b[33m\u001b[1m[∂] \u001b[22m\u001b[39m\u001b[36m\u001b[1mput on (\u001b[22m\u001b[39m\u001b[36m\u001b[1m1\u001b[22m\u001b[39m\u001b[36m\u001b[1m)\u001b[22m\u001b[39m\n",
       "│     └─ rot(Z gate, 0.0)\n",
       "├─ \u001b[33m\u001b[1m[∂] \u001b[22m\u001b[39m\u001b[36m\u001b[1mput on (\u001b[22m\u001b[39m\u001b[36m\u001b[1m2\u001b[22m\u001b[39m\u001b[36m\u001b[1m)\u001b[22m\u001b[39m\n",
       "│     └─ rot(Z gate, 0.0)\n",
       "├─ \u001b[33m\u001b[1m[∂] \u001b[22m\u001b[39m\u001b[36m\u001b[1mput on (\u001b[22m\u001b[39m\u001b[36m\u001b[1m2\u001b[22m\u001b[39m\u001b[36m\u001b[1m)\u001b[22m\u001b[39m\n",
       "│     └─ rot(Y gate, 0.0)\n",
       "└─ \u001b[33m\u001b[1m[∂] \u001b[22m\u001b[39m\u001b[36m\u001b[1mput on (\u001b[22m\u001b[39m\u001b[36m\u001b[1m2\u001b[22m\u001b[39m\u001b[36m\u001b[1m)\u001b[22m\u001b[39m\n",
       "      └─ rot(Z gate, 0.0)\n"
      ]
     },
     "execution_count": 340,
     "metadata": {},
     "output_type": "execute_result"
    }
   ],
   "source": [
    "function U()\n",
    "    return chain(Rz(0), Ry(0), Rz(0))\n",
    "end\n",
    "v_unitary = chain(n, put(1=>Rz(0)), put(1=>Ry(0)), put(1=>Rz(0)), \n",
    "                  put(2=>Rz(0)), put(2=>Ry(0)), put(2=>Rz(0)), \n",
    "                  control(2, 1=>X), \n",
    "                  put(1=>Rz(0)), put(2=>Ry(0)),\n",
    "                  control(1, 2=>X),\n",
    "                  put(2=>Ry(0)),\n",
    "                  control(2, 1=>X),\n",
    "                  put(1=>Rz(0)), put(1=>Ry(0)), put(1=>Rz(0)), \n",
    "                  put(2=>Rz(0)), put(2=>Ry(0)), put(2=>Rz(0)));\n",
    "c = v_unitary |> autodiff(:BP)"
   ]
  },
  {
   "cell_type": "code",
   "execution_count": null,
   "metadata": {},
   "outputs": [],
   "source": []
  }
 ],
 "metadata": {
  "kernelspec": {
   "display_name": "Julia 1.2.0",
   "language": "julia",
   "name": "julia-1.2"
  },
  "language_info": {
   "file_extension": ".jl",
   "mimetype": "application/julia",
   "name": "julia",
   "version": "1.2.0"
  }
 },
 "nbformat": 4,
 "nbformat_minor": 2
}
