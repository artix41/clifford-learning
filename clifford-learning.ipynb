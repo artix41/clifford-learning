{
 "cells": [
  {
   "cell_type": "code",
   "execution_count": 93,
   "metadata": {},
   "outputs": [],
   "source": [
    "import numpy as np\n",
    "import scipy as sp\n",
    "                       \n",
    "import matplotlib.pyplot as plt\n",
    "%matplotlib inline\n",
    "\n",
    "import os\n",
    "import re\n",
    "from IPython.display import clear_output\n",
    "\n",
    "import pennylane as qml\n",
    "from pennylane import expval, var\n",
    "\n",
    "import torch\n",
    "from torch.autograd import Variable\n",
    "from torch import nn\n",
    "import torch.nn.functional as F"
   ]
  },
  {
   "cell_type": "code",
   "execution_count": 12,
   "metadata": {},
   "outputs": [],
   "source": [
    "%load_ext autoreload\n",
    "%autoreload 2"
   ]
  },
  {
   "cell_type": "markdown",
   "metadata": {},
   "source": [
    "## Constants"
   ]
  },
  {
   "cell_type": "code",
   "execution_count": 13,
   "metadata": {},
   "outputs": [],
   "source": [
    "n_qubits = 2\n",
    "n = n_qubits\n",
    "\n",
    "n_train = 200\n",
    "n_test = 500"
   ]
  },
  {
   "cell_type": "code",
   "execution_count": 14,
   "metadata": {},
   "outputs": [],
   "source": [
    "data_folder = \"data/{}q\".format(n_qubits)"
   ]
  },
  {
   "cell_type": "markdown",
   "metadata": {},
   "source": [
    "## State preparation"
   ]
  },
  {
   "cell_type": "code",
   "execution_count": 15,
   "metadata": {},
   "outputs": [],
   "source": [
    "dev = qml.device('default.qubit', wires=3)\n",
    "dev.shots = 500"
   ]
  },
  {
   "cell_type": "markdown",
   "metadata": {},
   "source": [
    "### Definition of the circuit"
   ]
  },
  {
   "cell_type": "code",
   "execution_count": 16,
   "metadata": {},
   "outputs": [],
   "source": [
    "def universal_block(params, q):\n",
    "    qml.RZ(params[0], wires=q[0])\n",
    "    qml.RY(params[1], wires=q[0])\n",
    "    qml.RZ(params[2], wires=q[0])\n",
    "    qml.RZ(params[3], wires=q[1])\n",
    "    qml.RY(params[4], wires=q[1])\n",
    "    qml.RZ(params[5], wires=q[1])\n",
    "    qml.CNOT(wires=[q[1],q[0]])\n",
    "    qml.RZ(params[6], wires=q[0])\n",
    "    qml.RY(params[7], wires=q[1])\n",
    "    qml.CNOT(wires=[q[0],q[1]])\n",
    "    qml.RY(params[8], wires=q[1])\n",
    "    qml.CNOT(wires=[q[1],q[0]])\n",
    "    qml.RZ(params[9], wires=q[0])\n",
    "    qml.RY(params[10], wires=q[0])\n",
    "    qml.RZ(params[11], wires=q[0])\n",
    "    qml.RZ(params[12], wires=q[1])\n",
    "    qml.RY(params[13], wires=q[1])\n",
    "    qml.RZ(params[14], wires=q[1])"
   ]
  },
  {
   "cell_type": "code",
   "execution_count": 17,
   "metadata": {},
   "outputs": [],
   "source": [
    "@qml.qnode(dev, interface='torch')\n",
    "def sp_energy(sp_params):\n",
    "    wires = [1,2]\n",
    "    universal_block(sp_params, wires)\n",
    "    Z = np.array([[1, 0], [0, -1]])\n",
    "    H = np.kron(Z, Z)\n",
    "    return qml.expval(qml.Hermitian(H, wires))"
   ]
  },
  {
   "cell_type": "markdown",
   "metadata": {},
   "source": [
    "### Creation of the dataset"
   ]
  },
  {
   "cell_type": "code",
   "execution_count": 18,
   "metadata": {},
   "outputs": [],
   "source": [
    "sp_params_train = np.random.choice([0, np.pi/2, -np.pi/2, np.pi], size=(n_train, 15))\n",
    "sp_params_test = np.random.uniform(-np.pi,np.pi, size=(n_test, 15))"
   ]
  },
  {
   "cell_type": "code",
   "execution_count": 19,
   "metadata": {},
   "outputs": [],
   "source": [
    "def create_balanced_dataset(n, clifford=True, delta=0.2):\n",
    "    sp_params = []\n",
    "    for E_low in np.arange(-1, 1, delta):\n",
    "        cur_params = []\n",
    "        size_subset = int(n // (2 / delta))\n",
    "        while (len(cur_params) <= size_subset):\n",
    "            if clifford:\n",
    "                p = np.random.choice([0, np.pi/2, -np.pi/2, np.pi], size=(200, 15))\n",
    "            else:\n",
    "                p = np.random.uniform(-np.pi,np.pi, size=(200, 15))\n",
    "            E = list(map(lambda x: float(sp_energy(x).detach().numpy()), p))\n",
    "            correct_indices = np.logical_and(E_low <= E, E <= E_low + delta)\n",
    "            if len(cur_params) == 0:\n",
    "                cur_params = p[correct_indices]\n",
    "            else:\n",
    "                cur_params = np.concatenate([cur_params, p[correct_indices]])\n",
    "            clear_output(wait=True)\n",
    "            print(\"E low\", E_low, \", \", len(cur_params))\n",
    "        cur_params = cur_params[:size_subset]\n",
    "        if len(sp_params) == 0:\n",
    "            sp_params = cur_params\n",
    "        else:\n",
    "            sp_params = np.concatenate([sp_params, cur_params])\n",
    "    return sp_params"
   ]
  },
  {
   "cell_type": "code",
   "execution_count": 20,
   "metadata": {},
   "outputs": [
    {
     "name": "stdout",
     "output_type": "stream",
     "text": [
      "E low 0.7999999999999996 ,  52\n"
     ]
    }
   ],
   "source": [
    "sp_params_train = create_balanced_dataset(n_train, True, 0.5)\n",
    "sp_params_test = create_balanced_dataset(n_test, False)"
   ]
  },
  {
   "cell_type": "code",
   "execution_count": 21,
   "metadata": {},
   "outputs": [],
   "source": [
    "energies_train = list(map(lambda x: float(sp_energy(x).detach().numpy()), sp_params_train))\n",
    "energies_test = list(map(lambda x: float(sp_energy(x).detach().numpy()), sp_params_test))"
   ]
  },
  {
   "cell_type": "code",
   "execution_count": 22,
   "metadata": {},
   "outputs": [
    {
     "data": {
      "image/png": "[encoded data removed]",
      "text/plain": [
       "<Figure size 432x288 with 1 Axes>"
      ]
     },
     "metadata": {
      "needs_background": "light"
     },
     "output_type": "display_data"
    }
   ],
   "source": [
    "plt.hist(energies_train);"
   ]
  },
  {
   "cell_type": "markdown",
   "metadata": {},
   "source": [
    "### Test of the dataset"
   ]
  },
  {
   "cell_type": "code",
   "execution_count": 23,
   "metadata": {},
   "outputs": [],
   "source": [
    "@qml.qnode(dev, interface='torch')\n",
    "def sp_network(sp_params):\n",
    "    universal_block(sp_params, [1, 2])\n",
    "    return (qml.sample(qml.PauliZ(1)), qml.sample(qml.PauliZ(2)))"
   ]
  },
  {
   "cell_type": "code",
   "execution_count": 24,
   "metadata": {},
   "outputs": [
    {
     "name": "stdout",
     "output_type": "stream",
     "text": [
      "Counter({(1.0, -1.0): 144, (-1.0, -1.0): 139, (-1.0, 1.0): 109, (1.0, 1.0): 108})\n"
     ]
    },
    {
     "data": {
      "text/plain": [
       "([<matplotlib.axis.XTick at 0x12722f0d0>,\n",
       "  <matplotlib.axis.XTick at 0x127171610>,\n",
       "  <matplotlib.axis.XTick at 0x1272284d0>,\n",
       "  <matplotlib.axis.XTick at 0x12725ca10>],\n",
       " <a list of 4 Text xticklabel objects>)"
      ]
     },
     "execution_count": 24,
     "metadata": {},
     "output_type": "execute_result"
    },
    {
     "data": {
      "image/png": "[encoded data removed]",
      "text/plain": [
       "<Figure size 432x288 with 1 Axes>"
      ]
     },
     "metadata": {
      "needs_background": "light"
     },
     "output_type": "display_data"
    }
   ],
   "source": [
    "from collections import Counter\n",
    "\n",
    "i = 25\n",
    "measures = sp_network(sp_params_test[i]).detach().numpy()\n",
    "list_measures = list(zip(list(measures[0]), list(measures[1])))\n",
    "c = Counter(list_measures)\n",
    "print(c)\n",
    "\n",
    "x = range(len(c))\n",
    "y = [c[key] for key in sorted(c)]\n",
    "xlabels=[str(t) for t in sorted(c)]\n",
    "plt.bar(x,y,width=1)\n",
    "plt.xticks([x for x in x],xlabels)"
   ]
  },
  {
   "cell_type": "markdown",
   "metadata": {},
   "source": [
    "## Variational circuit"
   ]
  },
  {
   "cell_type": "markdown",
   "metadata": {},
   "source": [
    "### Main blocks"
   ]
  },
  {
   "cell_type": "code",
   "execution_count": 25,
   "metadata": {},
   "outputs": [],
   "source": [
    "def CCNOT(wires):\n",
    "    U = np.eye(8)\n",
    "    U[-2:, -2:] = np.array([[0, 1], [1, 0]])\n",
    "    qml.QubitUnitary(U, wires=wires)"
   ]
  },
  {
   "cell_type": "code",
   "execution_count": 26,
   "metadata": {},
   "outputs": [],
   "source": [
    "def controlled_block(params):\n",
    "    qml.CRZ(params[0], wires=[0, 1])\n",
    "    qml.CRY(params[1], wires=[0, 1])\n",
    "    qml.CRZ(params[2], wires=[0, 1])\n",
    "    \n",
    "    qml.CRZ(params[3], wires=[0, 2])\n",
    "    qml.CRY(params[4], wires=[0, 2])\n",
    "    qml.CRZ(params[5], wires=[0, 2])\n",
    "    \n",
    "    CCNOT(wires=[0, 2, 1])\n",
    "    qml.CRZ(params[6], wires=[0, 1])\n",
    "    qml.CRY(params[7], wires=[0, 2])\n",
    "    \n",
    "    CCNOT(wires=[0, 1, 2])\n",
    "    qml.CRY(params[8], wires=[0, 2])\n",
    "    CCNOT(wires=[0, 2, 1])\n",
    "    \n",
    "    qml.CRZ(params[9], wires=[0, 1])\n",
    "    qml.CRY(params[10], wires=[0, 1])\n",
    "    qml.CRZ(params[11], wires=[0, 1])\n",
    "    \n",
    "    qml.CRZ(params[12], wires=[0, 2])\n",
    "    qml.CRY(params[13], wires=[0, 2])\n",
    "    qml.CRZ(params[14], wires=[0, 2])"
   ]
  },
  {
   "cell_type": "markdown",
   "metadata": {},
   "source": [
    "### Composition"
   ]
  },
  {
   "cell_type": "code",
   "execution_count": 27,
   "metadata": {},
   "outputs": [],
   "source": [
    "@qml.qnode(dev, interface='torch')\n",
    "def total_qnn(sp_params, qnn_params):\n",
    "    universal_block(sp_params, [1, 2])\n",
    "    qml.Hadamard(0)\n",
    "    controlled_block(qnn_params)\n",
    "    qml.Hadamard(0)\n",
    "\n",
    "    return qml.expval.PauliZ(0)"
   ]
  },
  {
   "cell_type": "code",
   "execution_count": 28,
   "metadata": {},
   "outputs": [],
   "source": [
    "qnn_params = torch.tensor(np.random.normal(size=15, scale=1), requires_grad=True)\n",
    "end_params = torch.tensor(np.array([1., 0.]), requires_grad=True)"
   ]
  },
  {
   "cell_type": "code",
   "execution_count": 29,
   "metadata": {},
   "outputs": [
    {
     "data": {
      "text/plain": [
       "tensor(0.4960, dtype=torch.float64, grad_fn=<_TorchQNodeBackward>)"
      ]
     },
     "execution_count": 29,
     "metadata": {},
     "output_type": "execute_result"
    }
   ],
   "source": [
    "total_qnn(torch.tensor(sp_params_train[5]), qnn_params)"
   ]
  },
  {
   "cell_type": "code",
   "execution_count": 30,
   "metadata": {},
   "outputs": [],
   "source": [
    "def total_network(sp_params, qnn_params, end_params):\n",
    "    return end_params[0] * total_qnn(sp_params, qnn_params) + end_params[1]"
   ]
  },
  {
   "cell_type": "code",
   "execution_count": 31,
   "metadata": {},
   "outputs": [
    {
     "data": {
      "text/plain": [
       "tensor(-0.2520, dtype=torch.float64, grad_fn=<AddBackward0>)"
      ]
     },
     "execution_count": 31,
     "metadata": {},
     "output_type": "execute_result"
    }
   ],
   "source": [
    "total_network(torch.tensor(sp_params_train[0]), qnn_params, end_params)"
   ]
  },
  {
   "cell_type": "markdown",
   "metadata": {},
   "source": [
    "### Cost function"
   ]
  },
  {
   "cell_type": "code",
   "execution_count": 73,
   "metadata": {},
   "outputs": [],
   "source": [
    "def cost(sp_params, qnn_params, end_params, energy):\n",
    "    predicted_energy = total_network(sp_params, qnn_params, end_params)\n",
    "    return (predicted_energy - energy)**2"
   ]
  },
  {
   "cell_type": "code",
   "execution_count": 74,
   "metadata": {},
   "outputs": [
    {
     "data": {
      "text/plain": [
       "tensor([-0.1047,  0.1285, -0.1884, -0.0760,  0.0461, -0.0736,  0.1248,  0.0320,\n",
       "         0.1081,  0.1112, -0.0213, -0.0944,  0.0066,  0.0561, -0.1309],\n",
       "       dtype=torch.float64, requires_grad=True)"
      ]
     },
     "execution_count": 74,
     "metadata": {},
     "output_type": "execute_result"
    }
   ],
   "source": [
    "qnn_params"
   ]
  },
  {
   "cell_type": "code",
   "execution_count": 75,
   "metadata": {},
   "outputs": [
    {
     "data": {
      "text/plain": [
       "tensor(1.4787, dtype=torch.float64, grad_fn=<PowBackward0>)"
      ]
     },
     "execution_count": 75,
     "metadata": {},
     "output_type": "execute_result"
    }
   ],
   "source": [
    "cost(torch.tensor(sp_params_train[0]), qnn_params, end_params, torch.tensor(energies_train[0]))"
   ]
  },
  {
   "cell_type": "markdown",
   "metadata": {},
   "source": [
    "## Training"
   ]
  },
  {
   "cell_type": "code",
   "execution_count": 263,
   "metadata": {},
   "outputs": [],
   "source": [
    "qnn_params = torch.tensor(np.random.normal(size=15, scale=0.1), requires_grad=True)\n",
    "end_params = torch.tensor(np.array([1., 0.]), requires_grad=True)\n",
    "\n",
    "cost_train_list = []\n",
    "cost_test_list = []\n",
    "iter_train_list = []\n",
    "iter_test_list = []\n",
    "i = 0"
   ]
  },
  {
   "cell_type": "code",
   "execution_count": 308,
   "metadata": {},
   "outputs": [
    {
     "data": {
      "text/plain": [
       "tensor([-0.9155,  0.6020, -0.9316,  0.2806,  0.8615,  1.1764,  1.5833, -1.5601,\n",
       "         1.5576, -0.4969,  0.5955,  0.7977,  0.3642,  0.8749, -0.2658],\n",
       "       dtype=torch.float64, requires_grad=True)"
      ]
     },
     "execution_count": 308,
     "metadata": {},
     "output_type": "execute_result"
    }
   ],
   "source": [
    "qnn_params"
   ]
  },
  {
   "cell_type": "code",
   "execution_count": 302,
   "metadata": {},
   "outputs": [
    {
     "data": {
      "text/plain": [
       "1.5707963267948966"
      ]
     },
     "execution_count": 302,
     "metadata": {},
     "output_type": "execute_result"
    }
   ],
   "source": [
    "np.pi/2"
   ]
  },
  {
   "cell_type": "code",
   "execution_count": 307,
   "metadata": {},
   "outputs": [
    {
     "data": {
      "text/plain": [
       "tensor([1.4064, 0.0065], dtype=torch.float64, requires_grad=True)"
      ]
     },
     "execution_count": 307,
     "metadata": {},
     "output_type": "execute_result"
    }
   ],
   "source": [
    "end_params"
   ]
  },
  {
   "cell_type": "code",
   "execution_count": 266,
   "metadata": {},
   "outputs": [],
   "source": [
    "@qml.qnode(dev)\n",
    "def total_qnn_notorch(qnn_params):\n",
    "    universal_block(sp_params.detach().numpy(), [1, 2])\n",
    "    qml.Hadamard(0)\n",
    "    controlled_block(qnn_params)\n",
    "    qml.Hadamard(0)\n",
    "\n",
    "    return qml.expval.PauliZ(0)"
   ]
  },
  {
   "cell_type": "code",
   "execution_count": 267,
   "metadata": {},
   "outputs": [],
   "source": [
    "opt = torch.optim.SGD([end_params, qnn_params], lr=1e-3)"
   ]
  },
  {
   "cell_type": "code",
   "execution_count": 314,
   "metadata": {
    "scrolled": true
   },
   "outputs": [
    {
     "name": "stdout",
     "output_type": "stream",
     "text": [
      "Step: 128/200\n",
      "Cost train after step    62:  0.0036347930\n",
      "Cost test after step    62:  0.0047974078\n",
      "Gradient after tensor([ 0.0378,  0.0112,  0.0547,  0.0595,  0.0137,  0.0369, -0.0389, -0.0736,\n",
      "         0.0032,  0.0606, -0.0036,  0.0314,  0.0372, -0.0027,  0.0576],\n",
      "       dtype=torch.float64)\n",
      "tensor([-0.0086,  0.0087], dtype=torch.float64)\n"
     ]
    },
    {
     "ename": "KeyboardInterrupt",
     "evalue": "",
     "output_type": "error",
     "traceback": [
      "\u001b[0;31m---------------------------------------------------------------------------\u001b[0m",
      "\u001b[0;31mKeyboardInterrupt\u001b[0m                         Traceback (most recent call last)",
      "\u001b[0;32m<ipython-input-314-91b936cfaee4>\u001b[0m in \u001b[0;36m<module>\u001b[0;34m\u001b[0m\n\u001b[1;32m     24\u001b[0m \u001b[0;34m\u001b[0m\u001b[0m\n\u001b[1;32m     25\u001b[0m             \u001b[0mopt\u001b[0m\u001b[0;34m.\u001b[0m\u001b[0mzero_grad\u001b[0m\u001b[0;34m(\u001b[0m\u001b[0;34m)\u001b[0m\u001b[0;34m\u001b[0m\u001b[0;34m\u001b[0m\u001b[0m\n\u001b[0;32m---> 26\u001b[0;31m             \u001b[0mcost_train_batch\u001b[0m\u001b[0;34m.\u001b[0m\u001b[0mbackward\u001b[0m\u001b[0;34m(\u001b[0m\u001b[0;34m)\u001b[0m\u001b[0;34m\u001b[0m\u001b[0;34m\u001b[0m\u001b[0m\n\u001b[0m\u001b[1;32m     27\u001b[0m \u001b[0;34m\u001b[0m\u001b[0m\n\u001b[1;32m     28\u001b[0m             \u001b[0mclear_output\u001b[0m\u001b[0;34m(\u001b[0m\u001b[0mwait\u001b[0m\u001b[0;34m=\u001b[0m\u001b[0;32mTrue\u001b[0m\u001b[0;34m)\u001b[0m\u001b[0;34m\u001b[0m\u001b[0;34m\u001b[0m\u001b[0m\n",
      "\u001b[0;32m~/miniconda3/envs/clifford-learning/lib/python3.7/site-packages/torch/tensor.py\u001b[0m in \u001b[0;36mbackward\u001b[0;34m(self, gradient, retain_graph, create_graph)\u001b[0m\n\u001b[1;32m    116\u001b[0m                 \u001b[0mproducts\u001b[0m\u001b[0;34m.\u001b[0m \u001b[0mDefaults\u001b[0m \u001b[0mto\u001b[0m\u001b[0;31m \u001b[0m\u001b[0;31m`\u001b[0m\u001b[0;31m`\u001b[0m\u001b[0;32mFalse\u001b[0m\u001b[0;31m`\u001b[0m\u001b[0;31m`\u001b[0m\u001b[0;34m.\u001b[0m\u001b[0;34m\u001b[0m\u001b[0;34m\u001b[0m\u001b[0m\n\u001b[1;32m    117\u001b[0m         \"\"\"\n\u001b[0;32m--> 118\u001b[0;31m         \u001b[0mtorch\u001b[0m\u001b[0;34m.\u001b[0m\u001b[0mautograd\u001b[0m\u001b[0;34m.\u001b[0m\u001b[0mbackward\u001b[0m\u001b[0;34m(\u001b[0m\u001b[0mself\u001b[0m\u001b[0;34m,\u001b[0m \u001b[0mgradient\u001b[0m\u001b[0;34m,\u001b[0m \u001b[0mretain_graph\u001b[0m\u001b[0;34m,\u001b[0m \u001b[0mcreate_graph\u001b[0m\u001b[0;34m)\u001b[0m\u001b[0;34m\u001b[0m\u001b[0;34m\u001b[0m\u001b[0m\n\u001b[0m\u001b[1;32m    119\u001b[0m \u001b[0;34m\u001b[0m\u001b[0m\n\u001b[1;32m    120\u001b[0m     \u001b[0;32mdef\u001b[0m \u001b[0mregister_hook\u001b[0m\u001b[0;34m(\u001b[0m\u001b[0mself\u001b[0m\u001b[0;34m,\u001b[0m \u001b[0mhook\u001b[0m\u001b[0;34m)\u001b[0m\u001b[0;34m:\u001b[0m\u001b[0;34m\u001b[0m\u001b[0;34m\u001b[0m\u001b[0m\n",
      "\u001b[0;32m~/miniconda3/envs/clifford-learning/lib/python3.7/site-packages/torch/autograd/__init__.py\u001b[0m in \u001b[0;36mbackward\u001b[0;34m(tensors, grad_tensors, retain_graph, create_graph, grad_variables)\u001b[0m\n\u001b[1;32m     91\u001b[0m     Variable._execution_engine.run_backward(\n\u001b[1;32m     92\u001b[0m         \u001b[0mtensors\u001b[0m\u001b[0;34m,\u001b[0m \u001b[0mgrad_tensors\u001b[0m\u001b[0;34m,\u001b[0m \u001b[0mretain_graph\u001b[0m\u001b[0;34m,\u001b[0m \u001b[0mcreate_graph\u001b[0m\u001b[0;34m,\u001b[0m\u001b[0;34m\u001b[0m\u001b[0;34m\u001b[0m\u001b[0m\n\u001b[0;32m---> 93\u001b[0;31m         allow_unreachable=True)  # allow_unreachable flag\n\u001b[0m\u001b[1;32m     94\u001b[0m \u001b[0;34m\u001b[0m\u001b[0m\n\u001b[1;32m     95\u001b[0m \u001b[0;34m\u001b[0m\u001b[0m\n",
      "\u001b[0;31mKeyboardInterrupt\u001b[0m: "
     ]
    }
   ],
   "source": [
    "n_epochs = 100\n",
    "n_iters_test = 2\n",
    "lr = 0.01\n",
    "lr_ab = 0.01\n",
    "batch_size = 64\n",
    "opt.lr = lr\n",
    "\n",
    "for i in range(i, n_epochs+i):\n",
    "    samples_idx = np.random.choice(n_train, size=n_train, replace=False)\n",
    "    \n",
    "    cost_train_epoch = []\n",
    "    cost_train_batch = 0\n",
    "    for i_sample in range(n_train):\n",
    "        sp_params = torch.tensor(sp_params_train[samples_idx[i_sample]])\n",
    "        energy = torch.tensor(energies_train[samples_idx[i_sample]])\n",
    "      \n",
    "        curr_cost = cost(sp_params, qnn_params, end_params, energy)\n",
    "        cost_train_batch += curr_cost\n",
    "#         print(curr_cost)\n",
    "            \n",
    "        if (i_sample != 0 and i_sample % batch_size == 0) or i_sample == n_train-1:\n",
    "            cost_train_batch /= batch_size\n",
    "            cost_train_epoch.append(cost_train_batch.detach().numpy())\n",
    "            \n",
    "            opt.zero_grad()\n",
    "            cost_train_batch.backward()\n",
    "            \n",
    "            clear_output(wait=True)\n",
    "            print('Step: {}/{}'.format(i_sample, n_train))\n",
    "            print('Cost train after step {:5d}: {: .10f}'.format(i, np.mean(cost_train_epoch)))\n",
    "            if i > n_iters_test:\n",
    "                print('Cost test after step {:5d}: {: .10f}'.format(i, cost_test_list[-1]))\n",
    "#             print(\"Gradient before\", qnn_params.grad.data)\n",
    "            print(\"Gradient after\", ginv @ qnn_params.grad.data)\n",
    "            print(end_params.grad.data)\n",
    "            \n",
    "            mt = total_qnn_notorch.metric_tensor(qnn_params.detach().numpy())\n",
    "            ginv = torch.tensor(sp.linalg.pinvh(mt))\n",
    "#             print(ginv)\n",
    "#             qnn_params.grad.data = ginv @ qnn_params.grad.data\n",
    "            qnn_params.data.sub_(lr * ginv @ qnn_params.grad.data)\n",
    "            end_params.data.sub_(lr_ab * end_params.grad.data)\n",
    "#             opt.step()\n",
    "            cost_train_batch = 0\n",
    "\n",
    "    if i % n_iters_test == 0:\n",
    "        print(\"Testing...\")\n",
    "        samples_idx = np.random.choice(n_test, size=n_test, replace=False)\n",
    "        cost_test_sample = []\n",
    "        for i_sample in range(n_test):\n",
    "            sp_params = torch.tensor(sp_params_test[samples_idx[i_sample]])\n",
    "            energy = torch.tensor(energies_test[samples_idx[i_sample]])\n",
    "            cost_test_sample.append(cost(sp_params, qnn_params, end_params, energy).detach().numpy())\n",
    "        cost_test_list.append(np.mean(cost_test_sample))\n",
    "        iter_test_list.append(i)\n",
    "\n",
    "    cost_train_list.append(np.mean(cost_train_epoch))\n",
    "    iter_train_list.append(i)\n",
    "\n",
    "i = i+1"
   ]
  },
  {
   "cell_type": "code",
   "execution_count": 315,
   "metadata": {},
   "outputs": [
    {
     "data": {
      "image/png": "[encoded data removed]",
      "text/plain": [
       "<Figure size 1152x360 with 2 Axes>"
      ]
     },
     "metadata": {
      "needs_background": "light"
     },
     "output_type": "display_data"
    }
   ],
   "source": [
    "start = 0\n",
    "plt.rcParams['figure.figsize'] = (16,5)\n",
    "\n",
    "plt.subplot(1,2,1)\n",
    "plt.plot(iter_train_list[start:], cost_train_list[start:], \n",
    "         label=\"Training learning curve\")\n",
    "plt.legend()\n",
    "plt.yscale('log')\n",
    "\n",
    "plt.subplot(1,2,2)\n",
    "plt.plot(iter_test_list[np.where(np.array(iter_test_list) >= start)[0][0]:], cost_test_list[np.where(np.array(iter_test_list) >= start)[0][0]:], \n",
    "         label=\"Testing learning curve\")\n",
    "plt.legend()\n",
    "plt.yscale('log')"
   ]
  },
  {
   "cell_type": "code",
   "execution_count": 316,
   "metadata": {},
   "outputs": [
    {
     "data": {
      "text/plain": [
       "<matplotlib.legend.Legend at 0x12da69cd0>"
      ]
     },
     "execution_count": 316,
     "metadata": {},
     "output_type": "execute_result"
    },
    {
     "data": {
      "image/png": "[encoded data removed]",
      "text/plain": [
       "<Figure size 1152x360 with 2 Axes>"
      ]
     },
     "metadata": {
      "needs_background": "light"
     },
     "output_type": "display_data"
    }
   ],
   "source": [
    "plt.rcParams['figure.figsize'] = (16,5)\n",
    "\n",
    "plt.subplot(1,2,1)\n",
    "plt.title(\"Result: {:0.7f}\".format(cost_train_list[-1]))\n",
    "\n",
    "energy_pred = []\n",
    "for j in range(n_train):\n",
    "    sp_params = torch.tensor(sp_params_train[j])\n",
    "    energy_pred.append(total_network(sp_params, qnn_params, end_params).detach().numpy())\n",
    "\n",
    "plt.scatter(energies_train, energy_pred, label=\"Train\")\n",
    "plt.plot([-1,1],[-1,1])\n",
    "plt.xlabel(\"Truth\")\n",
    "plt.ylabel(\"Prediction\")\n",
    "plt.legend()\n",
    "\n",
    "plt.subplot(1,2,2)\n",
    "plt.title(\"Result: {:0.7f}\".format(cost_test_list[-1]))\n",
    "\n",
    "energy_pred = []\n",
    "for j in range(n_test):\n",
    "    sp_params = torch.tensor(sp_params_test[j])\n",
    "    energy_pred.append(total_network(sp_params, qnn_params, end_params).detach().numpy())\n",
    "    \n",
    "plt.scatter(energies_test, energy_pred, label=\"Test\")\n",
    "plt.plot([0,1],[0,1])\n",
    "plt.xlabel(\"Truth\")\n",
    "plt.ylabel(\"Prediction\")\n",
    "plt.legend()\n"
   ]
  },
  {
   "cell_type": "code",
   "execution_count": 160,
   "metadata": {},
   "outputs": [
    {
     "data": {
      "text/plain": [
       "tensor([ 1.2619, -0.0941], dtype=torch.float64, requires_grad=True)"
      ]
     },
     "execution_count": 160,
     "metadata": {},
     "output_type": "execute_result"
    }
   ],
   "source": []
  },
  {
   "cell_type": "code",
   "execution_count": null,
   "metadata": {},
   "outputs": [],
   "source": [
    "# n_epochs = 100\n",
    "# n_iters_test = 2\n",
    "# lr = 0.00001\n",
    "# lr_ab = 0.00001\n",
    "# batch_size = 4\n",
    "# opt.lr = lr\n",
    "\n",
    "# for i in range(i, n_epochs+i):\n",
    "#     samples_idx = np.random.choice(n_train, size=n_train, replace=False)\n",
    "    \n",
    "#     cost_train_epoch = []\n",
    "#     cost_train_batch = 0\n",
    "#     qnn_grad_batch = 0\n",
    "#     end_grad_batch = 0\n",
    "#     for i_sample in range(n_train):\n",
    "#         sp_params = torch.tensor(sp_params_train[samples_idx[i_sample]])\n",
    "#         energy = torch.tensor(energies_train[samples_idx[i_sample]])\n",
    "      \n",
    "#         curr_cost = cost(sp_params, qnn_params, end_params, energy)\n",
    "#         cost_train_batch += curr_cost\n",
    "# #         print(curr_cost)\n",
    "        \n",
    "#         mt = total_qnn_notorch.metric_tensor(sp_params.detach().numpy(), qnn_params.detach().numpy())\n",
    "#         ginv = torch.tensor(sp.linalg.pinvh(mt[15:, 15:]))\n",
    "#         curr_cost.backward()\n",
    "# #         print(\"Gradient before\", qnn_params.grad.data)\n",
    "#         print(\"ginv\", ginv)\n",
    "#         qnn_grad_batch += ginv @ qnn_params.grad.data\n",
    "#         end_grad_batch += end_params.grad.data\n",
    "#         opt.zero_grad()\n",
    "        \n",
    "#         if (i_sample != 0 and i_sample % batch_size == 0) or i_sample == n_train-1:\n",
    "#             cost_train_batch /= batch_size\n",
    "#             cost_train_epoch.append(cost_train_batch.detach().numpy())\n",
    "#             qnn_grad_batch /= batch_size\n",
    "#             end_grad_batch /= batch_size\n",
    "            \n",
    "#             clear_output(wait=True)\n",
    "#             print('Step: {}/{}'.format(i_sample, n_train))\n",
    "#             print('Cost train after step {:5d}: {: .10f}'.format(i, np.mean(cost_train_epoch)))\n",
    "            \n",
    "#             if i > n_iters_test:\n",
    "#                 print('Cost test after step {:5d}: {: .10f}'.format(i, cost_test_list[-1]))\n",
    "            \n",
    "#             print(\"Gradient\", qnn_grad_batch)\n",
    "                    \n",
    "#             qnn_params.grad.data = qnn_grad_batch\n",
    "#             end_params.grad.data = end_grad_batch\n",
    "#             opt.step()\n",
    "        \n",
    "#             cost_train_batch = 0\n",
    "#             qnn_grad_batch = 0\n",
    "#             end_grad_batch = 0\n",
    "            \n",
    "#     if i % n_iters_test == 0:\n",
    "#         print(\"Testing\")\n",
    "#         samples_idx = np.random.choice(n_test, size=n_test, replace=False)\n",
    "#         cost_test_sample = []\n",
    "#         for i_sample in range(n_test):\n",
    "#             clear_output(wait=True)\n",
    "#             sp_params = torch.tensor(sp_params_test[samples_idx[i_sample]])\n",
    "#             energy = torch.tensor(energies_test[samples_idx[i_sample]])\n",
    "#             cost_test_sample.append(cost(sp_params, qnn_params, end_params, energy).detach().numpy())\n",
    "#         cost_test_list.append(np.mean(cost_test_sample))\n",
    "#         iter_test_list.append(i)\n",
    "\n",
    "#     cost_train_list.append(np.mean(cost_train_epoch))\n",
    "#     iter_train_list.append(i)\n",
    "    \n",
    "# i = i+1"
   ]
  }
 ],
 "metadata": {
  "kernelspec": {
   "display_name": "Python 3",
   "language": "python",
   "name": "python3"
  },
  "language_info": {
   "codemirror_mode": {
    "name": "ipython",
    "version": 3
   },
   "file_extension": ".py",
   "mimetype": "text/x-python",
   "name": "python",
   "nbconvert_exporter": "python",
   "pygments_lexer": "ipython3",
   "version": "3.7.4"
  }
 },
 "nbformat": 4,
 "nbformat_minor": 2
}
